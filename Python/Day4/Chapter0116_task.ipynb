{
 "cells": [
  {
   "cell_type": "markdown",
   "metadata": {
    "id": "BX7SgOeWu86I"
   },
   "source": [
    "안녕하세요. 수강생 여러분~! \n",
    "\n",
    "다시 돌아온 조금 더 성장할 기 ! 회 ! \n",
    "\n",
    "Chapter01 ~ 16의 수업 내용을 바탕으로 아래 문제를 풀어주시면 됩니다 !\n",
    "\n",
    "지금까지 잘 해오셨으니까, 총 복습한다고 생각하시고 한번 도전해보세요 !!!\n",
    "\n",
    "차근 차근 문제와 요구사항을 읽고 작성해보세요.\n",
    "\n",
    "<br>\n",
    "\n",
    "\n",
    "[**답변 입력 방법**]\n",
    "\n",
    "문제 아래에 있는 코드 입력창에 정답코드를 작성하신 후  __▷ 버튼을 클릭해 코드를 실행__ 해보세요<br>"
   ]
  },
  {
   "cell_type": "markdown",
   "metadata": {},
   "source": [
    "---"
   ]
  },
  {
   "cell_type": "markdown",
   "metadata": {},
   "source": [
    "#### 프로젝트: 붕어빵 자동 판매 시스템\n",
    "\n",
    "\n",
    "당신은 붕어빵 가게의 주인입니다. \n",
    "\n",
    "손님들이 붕어빵을 주문하면 이를 자동으로 처리하고, 재고를 관리하는 시스템을 만들고자 합니다. \n",
    "\n",
    "또한, 관리자 모드를 통해 재고를 추가할 수 있는 기능을 구현해야 합니다.\n"
   ]
  },
  {
   "cell_type": "markdown",
   "metadata": {},
   "source": [
    "__[문제 1: 붕어빵 재고 확인]__\n",
    "\n",
    "붕어빵 가게의 현재 재고를 확인하는 기능을 구현하세요.\n",
    "\n",
    "요구사항:\n",
    "- 현재 붕어빵의 재고를 딕셔너리로 관리합니다.\n",
    "- 딕셔너리에는 붕어빵의 종류와 각각의 재고 개수가 저장됩니다.\n",
    "- 현재 재고를 화면에 출력하세요.\n",
    "\n",
    "붕어빵 재고\n",
    "- 팥붕어빵 : 10개\n",
    "- 슈크림붕어빵 : 8개\n",
    "- 초코붕어빵 : 5개"
   ]
  },
  {
   "cell_type": "code",
   "execution_count": 2,
   "metadata": {},
   "outputs": [
    {
     "name": "stdout",
     "output_type": "stream",
     "text": [
      "현재 붕어빵 재고:\n",
      "- 팥붕어빵 : 10개\n",
      "- 슈크림붕어빵 : 8개\n",
      "- 초코붕어빵 : 5개\n"
     ]
    }
   ],
   "source": [
    "inventory = {\n",
    "    \"팥붕어빵\": 10,\n",
    "    \"슈크림붕어빵\": 8,\n",
    "    \"초코붕어빵\": 5\n",
    "}\n",
    "\n",
    "print(\"현재 붕어빵 재고:\")\n",
    "for bun, count in inventory.items():\n",
    "    print(f\"- {bun} : {count}개\")"
   ]
  },
  {
   "cell_type": "markdown",
   "metadata": {},
   "source": [
    "__[문제 2: 붕어빵 주문 받기]__\n",
    "\n",
    "손님이 주문한 붕어빵의 종류와 개수를 입력받는 기능을 구현하세요.\n",
    "\n",
    "요구사항:\n",
    "- 손님이 주문할 붕어빵의 종류와 개수를 입력받습니다.\n",
    "- 주문 내용을 딕셔너리에 저장하세요.\n",
    "- 주문 내역을 출력해주세요."
   ]
  },
  {
   "cell_type": "code",
   "execution_count": 5,
   "metadata": {},
   "outputs": [
    {
     "name": "stdout",
     "output_type": "stream",
     "text": [
      "\n",
      " 주문 내역:\n",
      "- 초코붕어빵 : 4개\n"
     ]
    }
   ],
   "source": [
    "order = {}\n",
    "\n",
    "bun_type = input(\"어떤 붕어빵을 주문하시겠습니까? (예: 팥붕어빵): \")\n",
    "quantity = int(input(f\"{bun_type}을(를) 몇 개 주문하시겠습니까? \"))\n",
    "\n",
    "order[bun_type] = quantity\n",
    "\n",
    "print(\"\\n 주문 내역:\")\n",
    "for bun, count in order.items():\n",
    "    print(f\"- {bun} : {count}개\")"
   ]
  },
  {
   "cell_type": "markdown",
   "metadata": {},
   "source": [
    "__[문제 3: 붕어빵 주문 처리]__\n",
    "\n",
    "손님의 주문을 처리하여 붕어빵 재고를 업데이트하는 기능을 구현하세요.\n",
    "\n",
    "요구사항:\n",
    "- 손님의 주문 내용을 기반으로 재고를 업데이트합니다.\n",
    "- 재고가 부족할 경우, 손님에게 재고 부족을 알리고 재고를 감소시키지 않습니다.\n",
    "- 재고가 충분할 경우, 주문한 만큼 재고를 감소시키고 판매를 완료합니다.\n",
    "- 판매가 완료된 경우 판매된 붕어빵 맛과 개수를 출력하세요."
   ]
  },
  {
   "cell_type": "code",
   "execution_count": 7,
   "metadata": {},
   "outputs": [
    {
     "name": "stdout",
     "output_type": "stream",
     "text": [
      "\n",
      " 주문 처리 결과:\n",
      "재고 부족! 슈크림붕어빵은(는) 현재 8개 남아 있습니다.\n"
     ]
    }
   ],
   "source": [
    "# 현재 붕어빵 재고 딕셔너리\n",
    "inventory = {\n",
    "    \"팥붕어빵\": 10,\n",
    "    \"슈크림붕어빵\": 8,\n",
    "    \"초코붕어빵\": 1\n",
    "}\n",
    "\n",
    "# 손님의 주문 딕셔너리\n",
    "order = {}\n",
    "\n",
    "# 주문 입력 받기\n",
    "bun_type = input(\"어떤 붕어빵을 주문하시겠습니까? (예: 팥붕어빵): \")\n",
    "quantity = int(input(f\"{bun_type}을(를) 몇 개 주문하시겠습니까? \"))\n",
    "\n",
    "# 주문 저장\n",
    "order[bun_type] = quantity\n",
    "\n",
    "# 주문 처리\n",
    "print(\"\\n 주문 처리 결과:\")\n",
    "\n",
    "if bun_type in inventory:\n",
    "    if inventory[bun_type] >= order[bun_type]:\n",
    "        inventory[bun_type] -= order[bun_type]\n",
    "        print(f\"판매 완료: {bun_type} {order[bun_type]}개\")\n",
    "        print(f\"남은 재고: {bun_type} {inventory[bun_type]}개\")\n",
    "    else:\n",
    "        print(f\"재고 부족! {bun_type}은(는) 현재 {inventory[bun_type]}개 남아 있습니다.\")\n",
    "else:\n",
    "    print(f\" '{bun_type}'은(는) 판매하지 않는 붕어빵입니다.\")"
   ]
  },
  {
   "cell_type": "markdown",
   "metadata": {},
   "source": [
    "__[문제 4: 여러 손님 주문 처리]__\n",
    "\n",
    "여러 손님들의 주문을 처리할 수 있도록 시스템을 확장하세요.\n",
    "\n",
    "요구사항:\n",
    "- 손님이 \"종료\"를 입력할 때까지 주문을 계속 받습니다.\n",
    "- 각 주문마다 재고를 업데이트합니다.\n",
    "- 현재 재고를 화면에 출력합니다."
   ]
  },
  {
   "cell_type": "code",
   "execution_count": 10,
   "metadata": {},
   "outputs": [
    {
     "name": "stdout",
     "output_type": "stream",
     "text": [
      " 붕어빵 주문 시스템에 오신 것을 환영합니다!\n",
      " '종료'를 입력하면 주문을 마칩니다.\n",
      "\n",
      "판매 완료: 팥붕어빵 3개\n",
      "\n",
      " 현재 붕어빵 재고:\n",
      "- 팥붕어빵 : 7개\n",
      "- 슈크림붕어빵 : 8개\n",
      "- 초코붕어빵 : 1개\n",
      "------------------------------\n",
      "판매 완료: 슈크림붕어빵 5개\n",
      "\n",
      " 현재 붕어빵 재고:\n",
      "- 팥붕어빵 : 7개\n",
      "- 슈크림붕어빵 : 3개\n",
      "- 초코붕어빵 : 1개\n",
      "------------------------------\n",
      "\n",
      "🚪 주문을 종료합니다.\n"
     ]
    }
   ],
   "source": [
    "inventory = {\n",
    "    \"팥붕어빵\": 10,\n",
    "    \"슈크림붕어빵\": 8,\n",
    "    \"초코붕어빵\": 1\n",
    "}\n",
    "\n",
    "print(\" 붕어빵 주문 시스템에 오신 것을 환영합니다!\")\n",
    "print(\" '종료'를 입력하면 주문을 마칩니다.\\n\")\n",
    "\n",
    "while True:\n",
    "    bun_type = input(\"주문할 붕어빵 종류를 입력하세요: \")\n",
    "\n",
    "    # 종료 조건\n",
    "    if bun_type == \"종료\":\n",
    "        print(\"\\n🚪 주문을 종료합니다.\")\n",
    "        break\n",
    "\n",
    "    if bun_type not in inventory:\n",
    "        print(f\" '{bun_type}'은(는) 판매하지 않는 붕어빵입니다.\\n\")\n",
    "        continue\n",
    "\n",
    "    try:\n",
    "        quantity = int(input(f\"{bun_type}을(를) 몇 개 주문하시겠습니까? \"))\n",
    "    except ValueError:\n",
    "        print(\"숫자만 입력해주세요.\\n\")\n",
    "        continue\n",
    "\n",
    "    # 재고 확인 및 처리\n",
    "    if inventory[bun_type] >= quantity:\n",
    "        inventory[bun_type] -= quantity\n",
    "        print(f\"판매 완료: {bun_type} {quantity}개\")\n",
    "    else:\n",
    "        print(f\"재고 부족! {bun_type}은(는) 현재 {inventory[bun_type]}개 남아 있습니다.\")\n",
    "\n",
    "    # 현재 재고 출력\n",
    "    print(\"\\n 현재 붕어빵 재고:\")\n",
    "    for bun, count in inventory.items():\n",
    "        print(f\"- {bun} : {count}개\")\n",
    "    print(\"-\" * 30)"
   ]
  },
  {
   "cell_type": "markdown",
   "metadata": {},
   "source": [
    "__[문제 5: 관리자 모드]__\n",
    "\n",
    "관리자 모드를 통해 붕어빵 재고를 추가할 수 있는 기능을 구현하세요.\n",
    "\n",
    "요구사항:\n",
    "- 관리자는 특정 붕어빵의 재고를 추가할 수 있습니다.\n",
    "- \"종료\"를 입력하면 관리자 모드를 종료합니다.\n",
    "- 추가된 재고를 업데이트하고 현재 재고를 화면에 출력합니다."
   ]
  },
  {
   "cell_type": "code",
   "execution_count": 12,
   "metadata": {},
   "outputs": [
    {
     "name": "stdout",
     "output_type": "stream",
     "text": [
      "관리자 모드에 진입했습니다.\n",
      " '종료'를 입력하면 관리자 모드를 종료합니다.\n",
      "\n",
      "재고 추가 완료: 팥붕어빵 +3개\n",
      "\n",
      " 현재 붕어빵 재고:\n",
      "- 팥붕어빵 : 10개\n",
      "- 슈크림붕어빵 : 3개\n",
      "- 초코붕어빵 : 1개\n",
      "------------------------------\n",
      "재고 추가 완료: 슈크림붕어빵 +7개\n",
      "\n",
      " 현재 붕어빵 재고:\n",
      "- 팥붕어빵 : 10개\n",
      "- 슈크림붕어빵 : 10개\n",
      "- 초코붕어빵 : 1개\n",
      "------------------------------\n",
      "재고 추가 완료: 초코붕어빵 +9개\n",
      "\n",
      " 현재 붕어빵 재고:\n",
      "- 팥붕어빵 : 10개\n",
      "- 슈크림붕어빵 : 10개\n",
      "- 초코붕어빵 : 10개\n",
      "------------------------------\n",
      "\n",
      "🚪 관리자 모드를 종료합니다.\n"
     ]
    }
   ],
   "source": [
    "inventory = {\n",
    "    \"팥붕어빵\": 7,\n",
    "    \"슈크림붕어빵\": 3,\n",
    "    \"초코붕어빵\": 1\n",
    "}\n",
    "\n",
    "print(\"관리자 모드에 진입했습니다.\")\n",
    "print(\" '종료'를 입력하면 관리자 모드를 종료합니다.\\n\")\n",
    "\n",
    "while True:\n",
    "    bun_type = input(\"재고를 추가할 붕어빵 종류를 입력하세요: \")\n",
    "\n",
    "    # 종료 조건\n",
    "    if bun_type == \"종료\":\n",
    "        print(\"\\n🚪 관리자 모드를 종료합니다.\")\n",
    "        break\n",
    "\n",
    "    # 등록되지 않은 붕어빵일 경우\n",
    "    if bun_type not in inventory:\n",
    "        print(f\" '{bun_type}'은(는) 등록되지 않은 붕어빵입니다.\\n\")\n",
    "        continue\n",
    "\n",
    "    try:\n",
    "        amount = int(input(f\"{bun_type}에 몇 개를 추가하시겠습니까? \"))\n",
    "        if amount < 0:\n",
    "            print(\"0 이상의 수를 입력해주세요.\\n\")\n",
    "            continue\n",
    "    except ValueError:\n",
    "        print(\"숫자만 입력해주세요.\\n\")\n",
    "        continue\n",
    "\n",
    "    # 재고 추가\n",
    "    inventory[bun_type] += amount\n",
    "    print(f\"재고 추가 완료: {bun_type} +{amount}개\")\n",
    "\n",
    "    # 현재 재고 출력\n",
    "    print(\"\\n 현재 붕어빵 재고:\")\n",
    "    for bun, count in inventory.items():\n",
    "        print(f\"- {bun} : {count}개\")\n",
    "    print(\"-\" * 30)\n"
   ]
  },
  {
   "cell_type": "markdown",
   "metadata": {},
   "source": [
    "__[문제 6: 매출 확인]__\n",
    "\n",
    "붕어빵 판매 가격을 설정하고, 판매한 붕어빵의 매출을 계산하세요.\n",
    "\n",
    "요구사항:\n",
    "- 각 붕어빵의 가격을 딕셔너리로 관리합니다.\n",
    "- 판매된 붕어빵의 종류와 개수를 딕셔너리로 관리합니다.\n",
    "- 총 매출을 계산하여 출력합니다.\n",
    "\n",
    "초기 설정:\n",
    "- 가격\n",
    "    - \"팥붕어빵\": 1000\n",
    "    - \"슈크림붕어빵\": 1200\n",
    "    - \"초코붕어빵\": 1500\n",
    "\n",
    "- 판매 개수\n",
    "    - \"팥붕어빵\": 0\n",
    "    - \"슈크림붕어빵\": 0\n",
    "    - \"초코붕어빵\": 0"
   ]
  },
  {
   "cell_type": "code",
   "execution_count": 13,
   "metadata": {},
   "outputs": [
    {
     "name": "stdout",
     "output_type": "stream",
     "text": [
      " 매출 내역:\n",
      "- 팥붕어빵 3개 × 1000원 = 3000원\n",
      "- 슈크림붕어빵 5개 × 1200원 = 6000원\n",
      "- 초코붕어빵 4개 × 1500원 = 6000원\n",
      "\n",
      " 총 매출: 15000 원\n"
     ]
    }
   ],
   "source": [
    "prices = {\n",
    "    \"팥붕어빵\": 1000,\n",
    "    \"슈크림붕어빵\": 1200,\n",
    "    \"초코붕어빵\": 1500\n",
    "}\n",
    "\n",
    "sales = {\n",
    "    \"팥붕어빵\": 0,\n",
    "    \"슈크림붕어빵\": 0,\n",
    "    \"초코붕어빵\": 0\n",
    "}\n",
    "\n",
    "sales[\"팥붕어빵\"] = 3\n",
    "sales[\"슈크림붕어빵\"] = 5\n",
    "sales[\"초코붕어빵\"] = 4\n",
    "\n",
    "total_sales = 0\n",
    "print(\" 매출 내역:\")\n",
    "for bun, count in sales.items():\n",
    "    revenue = prices[bun] * count\n",
    "    total_sales += revenue\n",
    "    print(f\"- {bun} {count}개 × {prices[bun]}원 = {revenue}원\")\n",
    "\n",
    "print(\"\\n 총 매출:\", total_sales, \"원\")\n"
   ]
  }
 ],
 "metadata": {
  "colab": {
   "authorship_tag": "ABX9TyMLQjyUmELFyKkx1AyovOFZ",
   "provenance": []
  },
  "kernelspec": {
   "display_name": "Python 3",
   "name": "python3"
  },
  "language_info": {
   "codemirror_mode": {
    "name": "ipython",
    "version": 3
   },
   "file_extension": ".py",
   "mimetype": "text/x-python",
   "name": "python",
   "nbconvert_exporter": "python",
   "pygments_lexer": "ipython3",
   "version": "3.12.6"
  }
 },
 "nbformat": 4,
 "nbformat_minor": 0
}
