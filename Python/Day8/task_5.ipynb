{
 "cells": [
  {
   "cell_type": "markdown",
   "metadata": {},
   "source": [
    "[문제]\n",
    "\n",
    "'Account' 클래스를 작성하세요. \n",
    "\n",
    "이 클래스는 소유자(owner)와 잔액(balance)을 속성으로 가지며, 잔액은 프라이빗 변수로 선언합니다. \n",
    "\n",
    "'deposit'와 'withdraw' 두 개의 메소드를 통해 잔액을 조작할 수 있도록 하세요. \n",
    "\n",
    "이 때, 잔액은 음수가 될 수 없도록 체크해야 합니다. 'Account' 객체를 생성하고,<br>\n",
    "입금 및 출금 작업을 시뮬레이션한 후, 최종 잔액을 출력하세요."
   ]
  },
  {
   "metadata": {
    "ExecuteTime": {
     "end_time": "2025-04-25T05:27:07.797048Z",
     "start_time": "2025-04-25T05:27:07.793388Z"
    }
   },
   "cell_type": "code",
   "source": [
    "class Account():\n",
    "    def __init__(self, owner, balance):\n",
    "        self.owner = owner\n",
    "        self.__balance = balance\n",
    "\n",
    "    def deposit(self, amount):\n",
    "        if amount > 0:\n",
    "            self.__balance += amount\n",
    "            print(f'{amount}원이 정상적으로 입금 되었습니다.')\n",
    "        else:\n",
    "            print(\"입금 금액이 잘못 되었습니다. 다시 시도해주십시오.\")\n",
    "\n",
    "    def withdraw(self, amount):\n",
    "        if amount < 0:\n",
    "            print(\"출금 금액 입력이 잘못되었습니다. 다시 시도해주십시오.\")\n",
    "        elif amount > self.__balance:\n",
    "            print(\"잔액이 부족합니다.\")\n",
    "        else:\n",
    "            self.__balance -= amount\n",
    "            print(f'{amount}원이 출금되었습니다. 안녕히가십시오.')\n",
    "\n",
    "    def get_balance(self):\n",
    "        return self.__balance\n",
    "\n",
    "Account = Account(\"성기훈\", 45600000000)\n",
    "\n",
    "Account.deposit(10000)\n",
    "Account.withdraw(10000)\n",
    "Account.withdraw(45600001000)\n",
    "\n",
    "print(f'{Account.owner}고객님의 잔액은 {Account.get_balance()}원 입니다.')"
   ],
   "outputs": [
    {
     "name": "stdout",
     "output_type": "stream",
     "text": [
      "10000원이 정상적으로 입금 되었습니다.\n",
      "10000원이 출금되었습니다. 안녕히가십시오.\n",
      "잔액이 부족합니다.\n",
      "성기훈고객님의 잔액은 45600000000원 입니다.\n"
     ]
    }
   ],
   "execution_count": 4
  }
 ],
 "metadata": {
  "language_info": {
   "name": "python"
  }
 },
 "nbformat": 4,
 "nbformat_minor": 2
}
