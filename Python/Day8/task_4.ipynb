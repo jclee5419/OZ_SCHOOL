{
 "cells": [
  {
   "cell_type": "markdown",
   "metadata": {},
   "source": [
    "[문제] \n",
    "\n",
    "'Employee' 클래스를 선언하세요. \n",
    "\n",
    "이 클래스는 월급인상률을 의미하는 클래스 변수로 'raise_amount'를 갖고 있으며, 기본값은 1.04입니다. 다음 급여는 기본 급여에 월급인상률을 곱한 값으로 결정합니다.\n",
    "\n",
    "또한, 각 직원의 이름(name)과 급여(salary)를 속성으로 가지며, 'apply_raise' 메소드를 통해 급여에 'raise_amount'를 적용할 수 있어야 합니다.\n",
    "\n",
    "'Employee' 클래스의 객체 두 개를 생성하고, 한 객체에만 'raise_amount'를 변경한 후, 두 객체의 급여를 증가시켜보세요.<br>\n",
    "그리고 각 객체의 새로운 급여를 출력하세요."
   ]
  },
  {
   "metadata": {
    "ExecuteTime": {
     "end_time": "2025-04-25T05:05:05.458349Z",
     "start_time": "2025-04-25T05:05:05.455027Z"
    }
   },
   "cell_type": "code",
   "source": [
    "class Employee:\n",
    "\n",
    "    raise_amount = 1.04\n",
    "\n",
    "    def __init__(self, name, salary):\n",
    "        self.name = name\n",
    "        self.salary = salary\n",
    "\n",
    "    def apply_raise(self):\n",
    "        self.salary = int(self.salary * self.raise_amount)\n",
    "\n",
    "employee1 = Employee(\"철수\", 10030)\n",
    "employee2 = Employee(\"영희\", 10030)\n",
    "\n",
    "employee1.raise_amount = 1.5\n",
    "employee2.raise_amount = 1.2\n",
    "\n",
    "for employee in [employee1, employee2]:\n",
    "    employee.apply_raise()\n",
    "\n",
    "    print(f'{employee.name}의 인상된 급여: {employee.salary}원')"
   ],
   "outputs": [
    {
     "name": "stdout",
     "output_type": "stream",
     "text": [
      "철수의 인상된 급여: 15045원\n",
      "영희의 인상된 급여: 12036원\n"
     ]
    }
   ],
   "execution_count": 11
  }
 ],
 "metadata": {
  "language_info": {
   "name": "python"
  }
 },
 "nbformat": 4,
 "nbformat_minor": 2
}
