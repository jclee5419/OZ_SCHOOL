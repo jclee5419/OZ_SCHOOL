{
 "cells": [
  {
   "cell_type": "markdown",
   "metadata": {},
   "source": [
    "사용자로부터 이름과 나이를 입력 받아, \"안녕하세요, [이름]님! 당신은 [나이]살입니다.\"라고 출력하는 함수 greet_user를 작성하세요."
   ]
  },
  {
   "metadata": {
    "ExecuteTime": {
     "end_time": "2025-04-23T06:38:42.342191Z",
     "start_time": "2025-04-23T06:38:42.338058Z"
    }
   },
   "cell_type": "code",
   "source": [
    "def greet_user():\n",
    "    name = input(\"종찬: \")\n",
    "    age = int(input(\"29: \"))\n",
    "\n",
    "print(f'안녕하세요, {name}님! 당신은{age}살 입니다.')"
   ],
   "outputs": [
    {
     "name": "stdout",
     "output_type": "stream",
     "text": [
      "안녕하세요, 종찬님! 당신은29살 입니다.\n"
     ]
    }
   ],
   "execution_count": 5
  }
 ],
 "metadata": {
  "language_info": {
   "name": "python"
  }
 },
 "nbformat": 4,
 "nbformat_minor": 2
}
