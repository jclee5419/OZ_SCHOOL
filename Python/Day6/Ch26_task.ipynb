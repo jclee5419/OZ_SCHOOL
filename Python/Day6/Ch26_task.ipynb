{
 "cells": [
  {
   "cell_type": "markdown",
   "metadata": {},
   "source": [
    "0부터 시작하여 n까지의 숫자 중에서 홀수만 생성하는 제너레이터 odd_numbers를 작성하세요."
   ]
  },
  {
   "metadata": {
    "ExecuteTime": {
     "end_time": "2025-04-23T13:21:22.973239Z",
     "start_time": "2025-04-23T13:21:22.969884Z"
    }
   },
   "cell_type": "code",
   "source": [
    "def odd_numbers(n):\n",
    "    for i in range(n + 1):\n",
    "        if i % 2 == 1:\n",
    "            yield i\n",
    "\n",
    "for number in odd_numbers(50):\n",
    "    print(number, end=' ')\n"
   ],
   "outputs": [
    {
     "name": "stdout",
     "output_type": "stream",
     "text": [
      "1 3 5 7 9 11 13 15 17 19 21 23 25 27 29 31 33 35 37 39 41 43 45 47 49 "
     ]
    }
   ],
   "execution_count": 3
  }
 ],
 "metadata": {
  "language_info": {
   "name": "python"
  }
 },
 "nbformat": 4,
 "nbformat_minor": 2
}
