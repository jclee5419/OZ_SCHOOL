{
 "cells": [
  {
   "cell_type": "markdown",
   "metadata": {},
   "source": [
    "팩토리얼을 계산하는 재귀 함수 factorial을 작성하세요."
   ]
  },
  {
   "metadata": {
    "ExecuteTime": {
     "end_time": "2025-04-23T13:42:02.572624Z",
     "start_time": "2025-04-23T13:42:00.350070Z"
    }
   },
   "cell_type": "code",
   "source": [
    "def factorial(n):\n",
    "    output = 1\n",
    "    for i in range(1, n + 1):\n",
    "        output *= i\n",
    "    return output\n",
    "\n",
    "n = int(input(\"구하고자하는 팩토리얼의 수를 입력해주세요\"))\n",
    "print(f'{n}의 결과는 {factorial(n)}입니다.')"
   ],
   "outputs": [
    {
     "name": "stdout",
     "output_type": "stream",
     "text": [
      "8의 결과는 40320입니다.\n"
     ]
    }
   ],
   "execution_count": 6
  }
 ],
 "metadata": {
  "language_info": {
   "name": "python"
  }
 },
 "nbformat": 4,
 "nbformat_minor": 2
}
