{
 "cells": [
  {
   "cell_type": "markdown",
   "metadata": {},
   "source": [
    "사용자로부터 3개의 숫자를 입력받아, 이를 튜플로 만든 후 최소값과 최대값을 출력하는 함수 min_max를 작성하세요."
   ]
  },
  {
   "metadata": {
    "ExecuteTime": {
     "end_time": "2025-04-23T13:33:20.524589Z",
     "start_time": "2025-04-23T13:33:20.521074Z"
    }
   },
   "cell_type": "code",
   "source": [
    "def min_max(*num):\n",
    "    num_tuple = tuple(num)\n",
    "    print(min(num_tuple)),\n",
    "    print(max(num_tuple))\n",
    "\n",
    "min_max(15, 8, 50)"
   ],
   "outputs": [
    {
     "name": "stdout",
     "output_type": "stream",
     "text": [
      "8\n",
      "50\n"
     ]
    }
   ],
   "execution_count": 3
  }
 ],
 "metadata": {
  "language_info": {
   "name": "python"
  }
 },
 "nbformat": 4,
 "nbformat_minor": 2
}
