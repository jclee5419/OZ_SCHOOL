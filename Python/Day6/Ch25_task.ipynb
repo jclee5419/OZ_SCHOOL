{
 "cells": [
  {
   "cell_type": "markdown",
   "metadata": {},
   "source": [
    "두 개의 정수를 받아 합을 반환하는 함수 add를 작성하세요. 매개변수와 반환값에 타입 어노테이션을 추가하세요."
   ]
  },
  {
   "metadata": {
    "ExecuteTime": {
     "end_time": "2025-04-23T12:51:51.152924Z",
     "start_time": "2025-04-23T12:51:51.148971Z"
    }
   },
   "cell_type": "code",
   "source": [
    "def add(x, y):\n",
    "    #type:(int, int) -> int\n",
    "    return x + y\n",
    "\n",
    "print(add(3, 7))"
   ],
   "outputs": [
    {
     "name": "stdout",
     "output_type": "stream",
     "text": [
      "10\n"
     ]
    }
   ],
   "execution_count": 12
  }
 ],
 "metadata": {
  "language_info": {
   "name": "python"
  }
 },
 "nbformat": 4,
 "nbformat_minor": 2
}
