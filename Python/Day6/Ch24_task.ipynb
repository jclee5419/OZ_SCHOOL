{
 "cells": [
  {
   "cell_type": "markdown",
   "metadata": {},
   "source": [
    "사용자의 이름, 나이, 성별을 출력하는 함수 print_info를 작성하세요. 이 때, 모든 매개변수는 키워드 매개변수로만 받도록 하세요."
   ]
  },
  {
   "metadata": {
    "ExecuteTime": {
     "end_time": "2025-04-23T07:24:52.911081Z",
     "start_time": "2025-04-23T07:24:52.907947Z"
    }
   },
   "cell_type": "code",
   "source": [
    "def print_info(name=\"종찬\", age=29, gender=\"male\"):\n",
    "    print(f'이름: {name}')\n",
    "    print(f'나이: {age}')\n",
    "    print(f'성별: {gender}')\n",
    "\n",
    "print_info(name = \"종찬\", age=29, gender=\"male\")"
   ],
   "outputs": [
    {
     "name": "stdout",
     "output_type": "stream",
     "text": [
      "이름: 종찬\n",
      "나이: 29\n",
      "성별: male\n"
     ]
    }
   ],
   "execution_count": 16
  }
 ],
 "metadata": {
  "language_info": {
   "name": "python"
  }
 },
 "nbformat": 4,
 "nbformat_minor": 2
}
