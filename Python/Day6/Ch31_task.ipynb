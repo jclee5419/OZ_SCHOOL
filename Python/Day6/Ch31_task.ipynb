{
 "cells": [
  {
   "cell_type": "markdown",
   "metadata": {},
   "source": [
    "문자열 리스트를 받아, 각 문자열의 길이를 출력하는 함수 print_lengths를 작성하세요."
   ]
  },
  {
   "metadata": {
    "ExecuteTime": {
     "end_time": "2025-04-23T13:48:12.634544Z",
     "start_time": "2025-04-23T13:48:12.630973Z"
    }
   },
   "cell_type": "code",
   "source": [
    "def print_lengths(strings):\n",
    "    for str in strings:\n",
    "        print(len(str))\n",
    "\n",
    "words = [\"안녕하세요\", \"저는\", \"오즈코딩스쿨에서\", \"수업을\", \"듣고있습니다\"]\n",
    "print_lengths(words)"
   ],
   "outputs": [
    {
     "name": "stdout",
     "output_type": "stream",
     "text": [
      "5\n",
      "2\n",
      "8\n",
      "3\n",
      "6\n"
     ]
    }
   ],
   "execution_count": 1
  }
 ],
 "metadata": {
  "language_info": {
   "name": "python"
  }
 },
 "nbformat": 4,
 "nbformat_minor": 2
}
