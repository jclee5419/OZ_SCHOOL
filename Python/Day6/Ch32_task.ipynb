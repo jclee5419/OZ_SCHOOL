{
 "cells": [
  {
   "cell_type": "markdown",
   "metadata": {},
   "source": [
    "두 문자열을 받아서 긴 문자열을 반환하는 함수 longer_string을 작성하세요. 만약 두 문자열의 길이가 같다면, 첫 번째 문자열을 반환하세요."
   ]
  },
  {
   "metadata": {
    "ExecuteTime": {
     "end_time": "2025-04-23T13:51:27.021231Z",
     "start_time": "2025-04-23T13:51:27.018466Z"
    }
   },
   "cell_type": "code",
   "source": [
    "def longer_string(s1: str, s2: str) -> str:\n",
    "    if len(s1) >= len(s2):\n",
    "        return s1\n",
    "    else:\n",
    "        return s2\n",
    "\n",
    "print(longer_string(\"안녕하세요\", \"오즈코딩스쿨\"))\n",
    "print(longer_string(\"안녕하세요\", \"학생입니다\"))"
   ],
   "outputs": [
    {
     "name": "stdout",
     "output_type": "stream",
     "text": [
      "오즈코딩스쿨\n",
      "안녕하세요\n"
     ]
    }
   ],
   "execution_count": 2
  }
 ],
 "metadata": {
  "language_info": {
   "name": "python"
  }
 },
 "nbformat": 4,
 "nbformat_minor": 2
}
