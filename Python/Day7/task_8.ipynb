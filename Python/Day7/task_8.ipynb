{
 "cells": [
  {
   "cell_type": "markdown",
   "metadata": {},
   "source": [
    "여러분이 자주 사용하는 수학적 연산<br>\n",
    "(예: 삼각형 넓이, 원의 넓이, 직육면체의 넓이)을 수행하는 함수들을 포함하는 mymath.py라는 이름의 모듈을 만드세요. \n",
    "\n",
    "이 모듈을 사용하여 작성된 함수들을 실제로 임포트하고 사용하는 간단한 프로그램을 작성하세요."
   ]
  },
  {
   "metadata": {
    "ExecuteTime": {
     "end_time": "2025-04-24T07:15:50.834101Z",
     "start_time": "2025-04-24T07:15:50.829812Z"
    }
   },
   "cell_type": "code",
   "source": [
    "import mymath\n",
    "\n",
    "print('삼각형의 넓이:', mymath.triangle_area(20, 5))\n",
    "\n",
    "print('원의 넓이:', mymath.circle_area(15))\n",
    "\n",
    "print('직육면체의 넓이:', mymath.cuboid_area(20, 5, 10))"
   ],
   "outputs": [
    {
     "name": "stdout",
     "output_type": "stream",
     "text": [
      "삼각형의 넓이: 50.0\n",
      "원의 넓이: 706.8583470577034\n",
      "직육면체의 넓이: 700\n"
     ]
    }
   ],
   "execution_count": 1
  }
 ],
 "metadata": {
  "language_info": {
   "name": "python"
  }
 },
 "nbformat": 4,
 "nbformat_minor": 2
}
