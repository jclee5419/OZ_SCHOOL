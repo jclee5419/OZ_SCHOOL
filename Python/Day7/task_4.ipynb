{
 "cells": [
  {
   "cell_type": "markdown",
   "metadata": {},
   "source": [
    "사용자 정의 예외 NegativeNumberError를 생성하고, 사용자로부터 숫자를 입력받아 음수일 경우 NegativeNumberError를 발생시키는 프로그램을 작성하세요. \n",
    "\n",
    "- 예외 처리 구문을 사용하여 음수 입력 시 \"양수를 입력해주세요.\"라는 메시지를 출력"
   ]
  },
  {
   "metadata": {
    "ExecuteTime": {
     "end_time": "2025-04-24T05:43:11.557718Z",
     "start_time": "2025-04-24T05:43:08.488508Z"
    }
   },
   "cell_type": "code",
   "source": [
    "class NegativeNumberError(Exception):\n",
    "    pass\n",
    "\n",
    "def positive_number():\n",
    "    try:\n",
    "        number = input(\"숫자를 입력해주세요\")\n",
    "        number = int(number)\n",
    "\n",
    "        if number < 0:\n",
    "            raise NegativeNumberError\n",
    "        print(number)\n",
    "\n",
    "    except NegativeNumberError:\n",
    "        print(\"양수를 입력해주세요\")\n",
    "\n",
    "positive_number()"
   ],
   "outputs": [
    {
     "name": "stdout",
     "output_type": "stream",
     "text": [
      "양수를 입력해주세요\n"
     ]
    }
   ],
   "execution_count": 4
  }
 ],
 "metadata": {
  "language_info": {
   "name": "python"
  }
 },
 "nbformat": 4,
 "nbformat_minor": 2
}
