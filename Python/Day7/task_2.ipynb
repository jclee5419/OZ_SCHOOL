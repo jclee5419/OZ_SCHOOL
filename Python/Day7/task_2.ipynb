{
 "cells": [
  {
   "cell_type": "markdown",
   "metadata": {},
   "source": [
    "파일을 읽어서 내용을 출력하는 프로그램을 작성하세요. \n",
    "\n",
    "- 파일이 존재하지 않을 때 발생하는 FileNotFoundError를 처리\n",
    "- 파일이 존재하지 않을 경우 \"파일을 찾을 수 없습니다.\"라는 메시지를 출력"
   ]
  },
  {
   "metadata": {
    "ExecuteTime": {
     "end_time": "2025-04-24T05:54:39.405194Z",
     "start_time": "2025-04-24T05:54:27.796107Z"
    }
   },
   "cell_type": "code",
   "source": [
    "def readfile():\n",
    "    file_name = input(\"파일 이름을 입력하세요\")\n",
    "\n",
    "    try:\n",
    "        with open(file_name, 'r') as file:\n",
    "            print(\"\\n[파일 내용]\")\n",
    "            print(file.read)\n",
    "\n",
    "    except FileNotFoundError:\n",
    "        print(\"파일을 찾을 수 없습니다.\")\n",
    "\n",
    "readfile()"
   ],
   "outputs": [
    {
     "name": "stdout",
     "output_type": "stream",
     "text": [
      "\n",
      "[파일 내용]\n",
      "<built-in method read of _io.TextIOWrapper object at 0x119889460>\n"
     ]
    }
   ],
   "execution_count": 5
  }
 ],
 "metadata": {
  "language_info": {
   "name": "python"
  }
 },
 "nbformat": 4,
 "nbformat_minor": 2
}
