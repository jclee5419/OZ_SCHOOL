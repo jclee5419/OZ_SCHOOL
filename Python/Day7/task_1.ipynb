{
 "cells": [
  {
   "cell_type": "markdown",
   "metadata": {},
   "source": [
    "사용자로부터 두 개의 숫자를 입력받아 나눗셈을 수행하는 프로그램을 작성하세요. \n",
    "\n",
    "[예외처리]\n",
    "- 입력 값이 숫자가 아닐 때 발생할 수 있는 ValueError\n",
    "- 나누는 수가 0일 때 발생할 수 있는 ZeroDivisionError\n",
    "- 위 2가지 예외처리 후 사용자에게 이해하기 쉬운 메시지 작성 후 출력되도록 코드를 작성"
   ]
  },
  {
   "metadata": {
    "ExecuteTime": {
     "end_time": "2025-04-24T05:06:02.615616Z",
     "start_time": "2025-04-24T05:05:57.088258Z"
    }
   },
   "cell_type": "code",
   "source": [
    "try:\n",
    "    x, y = map(int, input(\"숫자를 입력해주세요\").split(\" \"))\n",
    "    print(f'나눗셈 결과는{x % y}입니다')\n",
    "\n",
    "except ValueError:\n",
    "    print(\"숫자를 입력하지 않아 계산이 불가합니다\")\n",
    "\n",
    "except ZeroDivisionError:\n",
    "    print(\"0으로 나눌 수 없습니다.\")\n"
   ],
   "outputs": [
    {
     "name": "stdout",
     "output_type": "stream",
     "text": [
      "숫자를 입력하지 않아 계산이 불가합니다\n"
     ]
    }
   ],
   "execution_count": 10
  }
 ],
 "metadata": {
  "language_info": {
   "name": "python"
  }
 },
 "nbformat": 4,
 "nbformat_minor": 2
}
