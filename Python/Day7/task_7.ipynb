{
 "cells": [
  {
   "cell_type": "markdown",
   "metadata": {},
   "source": [
    "함수 실행 시간을 측정하는 데코레이터 timer_decorator를 작성하세요. \n",
    "\n",
    "임의의 함수가 실행되는 시간을 측정하여 \"함수 실행 시간: x.xx초\" 형태로 출력하세요."
   ]
  },
  {
   "metadata": {
    "ExecuteTime": {
     "end_time": "2025-04-24T06:59:40.083166Z",
     "start_time": "2025-04-24T06:59:37.072531Z"
    }
   },
   "cell_type": "code",
   "source": [
    "import time\n",
    "\n",
    "def time_decorator(function):\n",
    "    def wrapper():\n",
    "        start = time.time()\n",
    "        result = function()\n",
    "        end = time.time()\n",
    "        timelapse = end - start\n",
    "        print(f\"함수 실행 시간: {timelapse:.2f}초\")\n",
    "        return result\n",
    "    return wrapper\n",
    "\n",
    "@time_decorator\n",
    "def time_measurement():\n",
    "    time.sleep(3)\n",
    "    print(\"함수 실행 시간 측정\")\n",
    "\n",
    "time_measurement()"
   ],
   "outputs": [
    {
     "name": "stdout",
     "output_type": "stream",
     "text": [
      "함수 실행 시간 측정\n",
      "함수 실행 시간: 3.01초\n"
     ]
    }
   ],
   "execution_count": 5
  }
 ],
 "metadata": {
  "language_info": {
   "name": "python"
  }
 },
 "nbformat": 4,
 "nbformat_minor": 2
}
