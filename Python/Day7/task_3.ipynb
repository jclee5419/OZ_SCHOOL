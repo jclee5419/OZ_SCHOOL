{
 "cells": [
  {
   "cell_type": "markdown",
   "metadata": {},
   "source": [
    "사용자로부터 여러 개의 숫자를 입력받아 리스트에 저장한 후, 사용자가 'done'이라고 입력할 때까지 계속 입력받으세요. \n",
    "\n",
    "- 입력 중 숫자가 아닌 값이 입력되면 ValueError를 처리\n",
    "- 숫자 외 값이 입력된 경우 어떤 값이 잘못 입력되었는지 사용자에게 알려주는 문구 출력<br>\n",
    "  (예: f\"잘못된 값: {변수}. 숫자를 입력해주세요.\")\n",
    "\n"
   ]
  },
  {
   "metadata": {
    "ExecuteTime": {
     "end_time": "2025-04-24T05:33:39.292029Z",
     "start_time": "2025-04-24T05:33:02.308079Z"
    }
   },
   "cell_type": "code",
   "source": [
    "def several_numbers():\n",
    "    numbers = []\n",
    "\n",
    "    while True:\n",
    "        user_input = input(\"숫자를 입력해주세요('done'을 입력하면 종료): \")\n",
    "\n",
    "        if user_input == 'done':\n",
    "            break\n",
    "        try:\n",
    "            numbers.append(int(user_input))\n",
    "\n",
    "        except ValueError:\n",
    "            print(f'잘못된 값:{user_input}이 입력되었습니다. 숫자를 입력해주세요')\n",
    "\n",
    "several_numbers()"
   ],
   "outputs": [
    {
     "name": "stdout",
     "output_type": "stream",
     "text": [
      "잘못된 값:nice이 입력되었습니다. 숫자를 입력해주세요\n",
      "잘못된 값:error이 입력되었습니다. 숫자를 입력해주세요\n"
     ]
    }
   ],
   "execution_count": 29
  }
 ],
 "metadata": {
  "language_info": {
   "name": "python"
  }
 },
 "nbformat": 4,
 "nbformat_minor": 2
}
