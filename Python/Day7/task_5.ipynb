{
 "cells": [
  {
   "cell_type": "markdown",
   "metadata": {},
   "source": [
    "datetime 모듈을 사용하여 현재 날짜와 시간을 출력하는 프로그램을 작성하세요. \n",
    "\n",
    "또한, 사용자로부터 태어난 년도를 입력받아 현재 나이를 계산하여 출력하세요."
   ]
  },
  {
   "metadata": {
    "ExecuteTime": {
     "end_time": "2025-04-24T06:07:19.394284Z",
     "start_time": "2025-04-24T06:07:13.863325Z"
    }
   },
   "cell_type": "code",
   "source": [
    "import datetime\n",
    "\n",
    "now = datetime.datetime.now()\n",
    "print(\"현재 날짜와 시간\")\n",
    "output = now.strftime(\"%Y{} %m{} %d{} %H{} %M{} %S{}\").format(*\"년월일시분초\")\n",
    "print(output)\n",
    "\n",
    "birth_year = int(input(\"태어난 연도를 입력 하세요.\"))\n",
    "\n",
    "current_year = now.year\n",
    "age = current_year - birth_year\n",
    "\n",
    "print(f'현재 나이는 {age}세 입니다.')"
   ],
   "outputs": [
    {
     "name": "stdout",
     "output_type": "stream",
     "text": [
      "현재 날짜와 시간\n",
      "2025년 04월 24일 15시 07분 13초\n",
      "현재 나이는 28세 입니다.\n"
     ]
    }
   ],
   "execution_count": 9
  }
 ],
 "metadata": {
  "language_info": {
   "name": "python"
  }
 },
 "nbformat": 4,
 "nbformat_minor": 2
}
